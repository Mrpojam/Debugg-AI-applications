{
 "cells": [
  {
   "cell_type": "code",
   "execution_count": 1,
   "id": "16c99ea6-9b53-422d-8a8c-e765e80d3540",
   "metadata": {},
   "outputs": [
    {
     "name": "stderr",
     "output_type": "stream",
     "text": [
      "[nltk_data] Downloading package stopwords to /home/poj/nltk_data...\n",
      "[nltk_data]   Package stopwords is already up-to-date!\n",
      "2022-12-12 09:25:36.506322: I tensorflow/core/platform/cpu_feature_guard.cc:193] This TensorFlow binary is optimized with oneAPI Deep Neural Network Library (oneDNN) to use the following CPU instructions in performance-critical operations:  AVX2 FMA\n",
      "To enable them in other operations, rebuild TensorFlow with the appropriate compiler flags.\n",
      "2022-12-12 09:25:36.590909: W tensorflow/compiler/xla/stream_executor/platform/default/dso_loader.cc:64] Could not load dynamic library 'libcudart.so.11.0'; dlerror: libcudart.so.11.0: cannot open shared object file: No such file or directory\n",
      "2022-12-12 09:25:36.590923: I tensorflow/compiler/xla/stream_executor/cuda/cudart_stub.cc:29] Ignore above cudart dlerror if you do not have a GPU set up on your machine.\n",
      "2022-12-12 09:25:37.108379: W tensorflow/compiler/xla/stream_executor/platform/default/dso_loader.cc:64] Could not load dynamic library 'libnvinfer.so.7'; dlerror: libnvinfer.so.7: cannot open shared object file: No such file or directory\n",
      "2022-12-12 09:25:37.108425: W tensorflow/compiler/xla/stream_executor/platform/default/dso_loader.cc:64] Could not load dynamic library 'libnvinfer_plugin.so.7'; dlerror: libnvinfer_plugin.so.7: cannot open shared object file: No such file or directory\n",
      "2022-12-12 09:25:37.108430: W tensorflow/compiler/tf2tensorrt/utils/py_utils.cc:38] TF-TRT Warning: Cannot dlopen some TensorRT libraries. If you would like to use Nvidia GPU with TensorRT, please make sure the missing libraries mentioned above are installed properly.\n"
     ]
    }
   ],
   "source": [
    "# Ignore  the warnings\n",
    "import warnings\n",
    "warnings.filterwarnings('always')\n",
    "warnings.filterwarnings('ignore')\n",
    "\n",
    "# data visualisation and manipulation\n",
    "import numpy as np\n",
    "import pandas as pd\n",
    "import matplotlib.pyplot as plt\n",
    "from matplotlib import style\n",
    "import seaborn as sns\n",
    "#configure\n",
    "# sets matplotlib to inline and displays graphs below the corressponding cell.\n",
    "style.use('fivethirtyeight')\n",
    "sns.set(style='whitegrid',color_codes=True)\n",
    "\n",
    "#nltk\n",
    "import nltk\n",
    "nltk.download('stopwords')\n",
    "\n",
    "#preprocessing\n",
    "from nltk.corpus import stopwords  #stopwords\n",
    "from nltk import word_tokenize,sent_tokenize # tokenizing\n",
    "from nltk.stem import PorterStemmer,LancasterStemmer  # using the Porter Stemmer and Lancaster Stemmer and others\n",
    "from nltk.stem.snowball import SnowballStemmer\n",
    "from nltk.stem import WordNetLemmatizer  # lammatizer from WordNet\n",
    "\n",
    "# for part-of-speech tagging\n",
    "from nltk import pos_tag\n",
    "\n",
    "# for named entity recognition (NER)\n",
    "from nltk import ne_chunk\n",
    "\n",
    "# vectorizers for creating the document-term-matrix (DTM)\n",
    "from sklearn.feature_extraction.text import TfidfVectorizer,CountVectorizer\n",
    "\n",
    "# BeautifulSoup libraray\n",
    "from bs4 import BeautifulSoup \n",
    "\n",
    "import re # regex\n",
    "\n",
    "#model_selection\n",
    "from sklearn.model_selection import train_test_split,cross_validate\n",
    "from sklearn.model_selection import KFold\n",
    "from sklearn.model_selection import GridSearchCV\n",
    "\n",
    "#evaluation\n",
    "from sklearn.metrics import accuracy_score,roc_auc_score \n",
    "from sklearn.metrics import classification_report\n",
    "from mlxtend.plotting import plot_confusion_matrix\n",
    "\n",
    "#preprocessing scikit\n",
    "from sklearn.preprocessing import MinMaxScaler,StandardScaler,LabelEncoder\n",
    "\n",
    "#classifiaction.\n",
    "from sklearn.linear_model import LogisticRegression\n",
    "from sklearn.svm import LinearSVC,SVC\n",
    "from sklearn.neighbors import KNeighborsClassifier\n",
    "from sklearn.ensemble import RandomForestClassifier,GradientBoostingClassifier,AdaBoostClassifier\n",
    "from sklearn.tree import DecisionTreeClassifier\n",
    "from sklearn.naive_bayes import GaussianNB,MultinomialNB\n",
    " \n",
    "#stop-words\n",
    "stop_words=set(nltk.corpus.stopwords.words('english'))\n",
    "\n",
    "#keras\n",
    "import keras\n",
    "from keras.preprocessing.text import one_hot,Tokenizer\n",
    "from tensorflow.keras.preprocessing.sequence import pad_sequences\n",
    "from keras.models import Sequential\n",
    "from keras.layers import Dense , Flatten ,Embedding,Input,CuDNNLSTM,LSTM\n",
    "from keras.models import Model\n",
    "from keras.preprocessing.text import text_to_word_sequence\n",
    "\n",
    "#gensim w2v\n",
    "#word2vec\n",
    "from gensim.models import Word2Vec"
   ]
  },
  {
   "cell_type": "markdown",
   "id": "c8ff9e4c-81fc-4886-8051-c8ea5abe44d6",
   "metadata": {},
   "source": [
    "# Load the data"
   ]
  },
  {
   "cell_type": "code",
   "execution_count": 2,
   "id": "81802204-1031-478d-a280-d597a1072b15",
   "metadata": {},
   "outputs": [
    {
     "data": {
      "text/html": [
       "<div>\n",
       "<style scoped>\n",
       "    .dataframe tbody tr th:only-of-type {\n",
       "        vertical-align: middle;\n",
       "    }\n",
       "\n",
       "    .dataframe tbody tr th {\n",
       "        vertical-align: top;\n",
       "    }\n",
       "\n",
       "    .dataframe thead th {\n",
       "        text-align: right;\n",
       "    }\n",
       "</style>\n",
       "<table border=\"1\" class=\"dataframe\">\n",
       "  <thead>\n",
       "    <tr style=\"text-align: right;\">\n",
       "      <th></th>\n",
       "      <th>OriginalTweet</th>\n",
       "      <th>Extremely Negative</th>\n",
       "      <th>Extremely Positive</th>\n",
       "      <th>Negative</th>\n",
       "      <th>Neutral</th>\n",
       "      <th>Positive</th>\n",
       "    </tr>\n",
       "  </thead>\n",
       "  <tbody>\n",
       "    <tr>\n",
       "      <th>0</th>\n",
       "      <td>@MeNyrbie @Phil_Gahan @Chrisitv https://t.co/i...</td>\n",
       "      <td>0.0</td>\n",
       "      <td>0.0</td>\n",
       "      <td>0.0</td>\n",
       "      <td>1.0</td>\n",
       "      <td>0.0</td>\n",
       "    </tr>\n",
       "    <tr>\n",
       "      <th>1</th>\n",
       "      <td>advice Talk to your neighbours family to excha...</td>\n",
       "      <td>0.0</td>\n",
       "      <td>0.0</td>\n",
       "      <td>0.0</td>\n",
       "      <td>0.0</td>\n",
       "      <td>1.0</td>\n",
       "    </tr>\n",
       "    <tr>\n",
       "      <th>2</th>\n",
       "      <td>Coronavirus Australia: Woolworths to give elde...</td>\n",
       "      <td>0.0</td>\n",
       "      <td>0.0</td>\n",
       "      <td>0.0</td>\n",
       "      <td>0.0</td>\n",
       "      <td>1.0</td>\n",
       "    </tr>\n",
       "    <tr>\n",
       "      <th>3</th>\n",
       "      <td>My food stock is not the only one which is emp...</td>\n",
       "      <td>0.0</td>\n",
       "      <td>0.0</td>\n",
       "      <td>0.0</td>\n",
       "      <td>0.0</td>\n",
       "      <td>1.0</td>\n",
       "    </tr>\n",
       "    <tr>\n",
       "      <th>4</th>\n",
       "      <td>Me, ready to go at supermarket during the #COV...</td>\n",
       "      <td>1.0</td>\n",
       "      <td>0.0</td>\n",
       "      <td>0.0</td>\n",
       "      <td>0.0</td>\n",
       "      <td>0.0</td>\n",
       "    </tr>\n",
       "  </tbody>\n",
       "</table>\n",
       "</div>"
      ],
      "text/plain": [
       "                                       OriginalTweet  Extremely Negative  \\\n",
       "0  @MeNyrbie @Phil_Gahan @Chrisitv https://t.co/i...                 0.0   \n",
       "1  advice Talk to your neighbours family to excha...                 0.0   \n",
       "2  Coronavirus Australia: Woolworths to give elde...                 0.0   \n",
       "3  My food stock is not the only one which is emp...                 0.0   \n",
       "4  Me, ready to go at supermarket during the #COV...                 1.0   \n",
       "\n",
       "   Extremely Positive  Negative  Neutral  Positive  \n",
       "0                 0.0       0.0      1.0       0.0  \n",
       "1                 0.0       0.0      0.0       1.0  \n",
       "2                 0.0       0.0      0.0       1.0  \n",
       "3                 0.0       0.0      0.0       1.0  \n",
       "4                 0.0       0.0      0.0       0.0  "
      ]
     },
     "execution_count": 2,
     "metadata": {},
     "output_type": "execute_result"
    }
   ],
   "source": [
    "df = pd.read_csv(\"train_data.csv\")\n",
    "df.drop(\"Unnamed: 0\", axis=1, inplace = True)\n",
    "df.head()"
   ]
  },
  {
   "cell_type": "code",
   "execution_count": 3,
   "id": "5f6ff094-81f3-4dbf-9f94-a142c14b7005",
   "metadata": {},
   "outputs": [
    {
     "name": "stdout",
     "output_type": "stream",
     "text": [
      "5481 6625 9918 7711 11422\n"
     ]
    }
   ],
   "source": [
    "En = df[df['Extremely Negative'] == 1]\n",
    "Ep = df[df['Extremely Positive'] == 1]\n",
    "N = df[df['Negative'] == 1]\n",
    "Ne = df[df['Neutral'] == 1]\n",
    "P = df[df['Positive'] == 1]\n",
    "\n",
    "print(len(En), len(Ep),len(N),len(Ne),len(P),)"
   ]
  },
  {
   "cell_type": "code",
   "execution_count": 4,
   "id": "2cf85fa8-7004-4951-9b5c-5e025855f12f",
   "metadata": {},
   "outputs": [],
   "source": [
    "En = En[:5000]\n",
    "Ep = Ep[:5000]\n",
    "N = N[:5000]\n",
    "Ne = Ne[:5000]\n",
    "P = P[:5000]"
   ]
  },
  {
   "cell_type": "markdown",
   "id": "bcd48f49-d1e9-445f-be73-4f2611f8784e",
   "metadata": {},
   "source": [
    "# Preprocess"
   ]
  },
  {
   "cell_type": "code",
   "execution_count": 5,
   "id": "90f5c429-a735-4375-81db-4fabd7e658c4",
   "metadata": {},
   "outputs": [
    {
     "data": {
      "text/html": [
       "<div>\n",
       "<style scoped>\n",
       "    .dataframe tbody tr th:only-of-type {\n",
       "        vertical-align: middle;\n",
       "    }\n",
       "\n",
       "    .dataframe tbody tr th {\n",
       "        vertical-align: top;\n",
       "    }\n",
       "\n",
       "    .dataframe thead th {\n",
       "        text-align: right;\n",
       "    }\n",
       "</style>\n",
       "<table border=\"1\" class=\"dataframe\">\n",
       "  <thead>\n",
       "    <tr style=\"text-align: right;\">\n",
       "      <th></th>\n",
       "      <th>OriginalTweet</th>\n",
       "      <th>Extremely Negative</th>\n",
       "      <th>Extremely Positive</th>\n",
       "      <th>Negative</th>\n",
       "      <th>Neutral</th>\n",
       "      <th>Positive</th>\n",
       "    </tr>\n",
       "  </thead>\n",
       "  <tbody>\n",
       "    <tr>\n",
       "      <th>4</th>\n",
       "      <td>Me, ready to go at supermarket during the #COV...</td>\n",
       "      <td>1.0</td>\n",
       "      <td>0.0</td>\n",
       "      <td>0.0</td>\n",
       "      <td>0.0</td>\n",
       "      <td>0.0</td>\n",
       "    </tr>\n",
       "    <tr>\n",
       "      <th>20</th>\n",
       "      <td>with 100  nations inficted with  covid  19  th...</td>\n",
       "      <td>1.0</td>\n",
       "      <td>0.0</td>\n",
       "      <td>0.0</td>\n",
       "      <td>0.0</td>\n",
       "      <td>0.0</td>\n",
       "    </tr>\n",
       "    <tr>\n",
       "      <th>27</th>\n",
       "      <td>This morning I tested positive for Covid 19. I...</td>\n",
       "      <td>1.0</td>\n",
       "      <td>0.0</td>\n",
       "      <td>0.0</td>\n",
       "      <td>0.0</td>\n",
       "      <td>0.0</td>\n",
       "    </tr>\n",
       "    <tr>\n",
       "      <th>29</th>\n",
       "      <td>@7SealsOfTheEnd Soon with dwindling supplies u...</td>\n",
       "      <td>1.0</td>\n",
       "      <td>0.0</td>\n",
       "      <td>0.0</td>\n",
       "      <td>0.0</td>\n",
       "      <td>0.0</td>\n",
       "    </tr>\n",
       "    <tr>\n",
       "      <th>42</th>\n",
       "      <td>CHECK VIDEO ?? https://t.co/1ksn9Brl02 ??No fo...</td>\n",
       "      <td>1.0</td>\n",
       "      <td>0.0</td>\n",
       "      <td>0.0</td>\n",
       "      <td>0.0</td>\n",
       "      <td>0.0</td>\n",
       "    </tr>\n",
       "  </tbody>\n",
       "</table>\n",
       "</div>"
      ],
      "text/plain": [
       "                                        OriginalTweet  Extremely Negative  \\\n",
       "4   Me, ready to go at supermarket during the #COV...                 1.0   \n",
       "20  with 100  nations inficted with  covid  19  th...                 1.0   \n",
       "27  This morning I tested positive for Covid 19. I...                 1.0   \n",
       "29  @7SealsOfTheEnd Soon with dwindling supplies u...                 1.0   \n",
       "42  CHECK VIDEO ?? https://t.co/1ksn9Brl02 ??No fo...                 1.0   \n",
       "\n",
       "    Extremely Positive  Negative  Neutral  Positive  \n",
       "4                  0.0       0.0      0.0       0.0  \n",
       "20                 0.0       0.0      0.0       0.0  \n",
       "27                 0.0       0.0      0.0       0.0  \n",
       "29                 0.0       0.0      0.0       0.0  \n",
       "42                 0.0       0.0      0.0       0.0  "
      ]
     },
     "execution_count": 5,
     "metadata": {},
     "output_type": "execute_result"
    }
   ],
   "source": [
    "data = pd.concat([En, Ep, N, Ne, P])\n",
    "data.head()"
   ]
  },
  {
   "cell_type": "code",
   "execution_count": 6,
   "id": "203d46c4-4ec2-45b5-8c53-8ef7b0426a09",
   "metadata": {},
   "outputs": [
    {
     "name": "stdout",
     "output_type": "stream",
     "text": [
      "(25000, 6)\n"
     ]
    },
    {
     "data": {
      "text/html": [
       "<div>\n",
       "<style scoped>\n",
       "    .dataframe tbody tr th:only-of-type {\n",
       "        vertical-align: middle;\n",
       "    }\n",
       "\n",
       "    .dataframe tbody tr th {\n",
       "        vertical-align: top;\n",
       "    }\n",
       "\n",
       "    .dataframe thead th {\n",
       "        text-align: right;\n",
       "    }\n",
       "</style>\n",
       "<table border=\"1\" class=\"dataframe\">\n",
       "  <thead>\n",
       "    <tr style=\"text-align: right;\">\n",
       "      <th></th>\n",
       "      <th>OriginalTweet</th>\n",
       "      <th>Extremely Negative</th>\n",
       "      <th>Extremely Positive</th>\n",
       "      <th>Negative</th>\n",
       "      <th>Neutral</th>\n",
       "      <th>Positive</th>\n",
       "    </tr>\n",
       "  </thead>\n",
       "  <tbody>\n",
       "    <tr>\n",
       "      <th>0</th>\n",
       "      <td>#Coronavirus: Asian woman dragged out of a sup...</td>\n",
       "      <td>0.0</td>\n",
       "      <td>0.0</td>\n",
       "      <td>0.0</td>\n",
       "      <td>0.0</td>\n",
       "      <td>1.0</td>\n",
       "    </tr>\n",
       "    <tr>\n",
       "      <th>1</th>\n",
       "      <td>Went to the grocery store and came home to spe...</td>\n",
       "      <td>0.0</td>\n",
       "      <td>0.0</td>\n",
       "      <td>0.0</td>\n",
       "      <td>1.0</td>\n",
       "      <td>0.0</td>\n",
       "    </tr>\n",
       "    <tr>\n",
       "      <th>2</th>\n",
       "      <td>6 key #consumer behavior threshold levels that...</td>\n",
       "      <td>0.0</td>\n",
       "      <td>0.0</td>\n",
       "      <td>0.0</td>\n",
       "      <td>0.0</td>\n",
       "      <td>1.0</td>\n",
       "    </tr>\n",
       "    <tr>\n",
       "      <th>3</th>\n",
       "      <td>With the #Coronavirus &amp;amp; the #CDC guideline...</td>\n",
       "      <td>0.0</td>\n",
       "      <td>0.0</td>\n",
       "      <td>0.0</td>\n",
       "      <td>0.0</td>\n",
       "      <td>1.0</td>\n",
       "    </tr>\n",
       "    <tr>\n",
       "      <th>4</th>\n",
       "      <td>On behalf of all my peers in the supermarket i...</td>\n",
       "      <td>0.0</td>\n",
       "      <td>0.0</td>\n",
       "      <td>0.0</td>\n",
       "      <td>0.0</td>\n",
       "      <td>1.0</td>\n",
       "    </tr>\n",
       "  </tbody>\n",
       "</table>\n",
       "</div>"
      ],
      "text/plain": [
       "                                       OriginalTweet  Extremely Negative  \\\n",
       "0  #Coronavirus: Asian woman dragged out of a sup...                 0.0   \n",
       "1  Went to the grocery store and came home to spe...                 0.0   \n",
       "2  6 key #consumer behavior threshold levels that...                 0.0   \n",
       "3  With the #Coronavirus &amp; the #CDC guideline...                 0.0   \n",
       "4  On behalf of all my peers in the supermarket i...                 0.0   \n",
       "\n",
       "   Extremely Positive  Negative  Neutral  Positive  \n",
       "0                 0.0       0.0      0.0       1.0  \n",
       "1                 0.0       0.0      1.0       0.0  \n",
       "2                 0.0       0.0      0.0       1.0  \n",
       "3                 0.0       0.0      0.0       1.0  \n",
       "4                 0.0       0.0      0.0       1.0  "
      ]
     },
     "execution_count": 6,
     "metadata": {},
     "output_type": "execute_result"
    }
   ],
   "source": [
    "# shuffling rows\n",
    "data = data.sample(frac=1).reset_index(drop=True)\n",
    "print(data.shape) \n",
    "data.head()"
   ]
  },
  {
   "cell_type": "code",
   "execution_count": 7,
   "id": "2b0a0037-a662-4730-9897-0f9b24c7778b",
   "metadata": {},
   "outputs": [],
   "source": [
    "# function to clean and pre-process the text.\n",
    "def clean_reviews(review):  \n",
    "    \n",
    "    # 1. Removing html tags\n",
    "    review_text = BeautifulSoup(review,\"lxml\").get_text()\n",
    "    \n",
    "    # 2. Retaining only alphabets.\n",
    "    review_text = re.sub(\"[^a-zA-Z]\",\" \",review_text)\n",
    "    \n",
    "    # 3. Converting to lower case and splitting\n",
    "    word_tokens= review_text.lower().split()\n",
    "    \n",
    "    # 4. Remove stopwords\n",
    "    le=WordNetLemmatizer()\n",
    "    stop_words= set(stopwords.words(\"english\"))     \n",
    "    word_tokens= [le.lemmatize(w) for w in word_tokens if not w in stop_words]\n",
    "    \n",
    "    cleaned_review=\" \".join(word_tokens)\n",
    "    return cleaned_review\n"
   ]
  },
  {
   "cell_type": "code",
   "execution_count": 8,
   "id": "24680b14-7eed-43c0-89b1-20b593d76feb",
   "metadata": {},
   "outputs": [
    {
     "name": "stderr",
     "output_type": "stream",
     "text": [
      "[nltk_data] Downloading package punkt to /home/poj/nltk_data...\n",
      "[nltk_data]   Package punkt is already up-to-date!\n",
      "[nltk_data] Downloading package wordnet to /home/poj/nltk_data...\n",
      "[nltk_data]   Package wordnet is already up-to-date!\n",
      "[nltk_data] Downloading package omw-1.4 to /home/poj/nltk_data...\n",
      "[nltk_data]   Package omw-1.4 is already up-to-date!\n"
     ]
    },
    {
     "name": "stdout",
     "output_type": "stream",
     "text": [
      "58100\n",
      "58100\n"
     ]
    }
   ],
   "source": [
    "nltk.download('punkt')\n",
    "nltk.download('wordnet')\n",
    "nltk.download('omw-1.4')\n",
    "tokenizer = nltk.data.load('tokenizers/punkt/english.pickle')\n",
    "sentences=[]\n",
    "sum=0\n",
    "for review in data['OriginalTweet']:\n",
    "    sents=tokenizer.tokenize(review.strip())\n",
    "    sum+=len(sents)\n",
    "    for sent in sents:\n",
    "        cleaned_sent=clean_reviews(sent)\n",
    "        sentences.append(cleaned_sent.split()) # can use word_tokenize also.\n",
    "print(sum)\n",
    "print(len(sentences))  # total no of sentences"
   ]
  },
  {
   "cell_type": "code",
   "execution_count": 9,
   "id": "d5deef96-5689-40e0-87c8-ccb5d00fa727",
   "metadata": {},
   "outputs": [],
   "source": [
    "import gensim\n",
    "w2v_model=gensim.models.Word2Vec(sentences=sentences,vector_size=300,window=10,min_count=1)"
   ]
  },
  {
   "cell_type": "code",
   "execution_count": 10,
   "id": "79311158-16b9-4e93-ad95-bdae11545d5f",
   "metadata": {},
   "outputs": [
    {
     "data": {
      "text/plain": [
       "(4435423, 5074230)"
      ]
     },
     "execution_count": 10,
     "metadata": {},
     "output_type": "execute_result"
    }
   ],
   "source": [
    "w2v_model.train(sentences,epochs=10,total_examples=len(sentences))"
   ]
  },
  {
   "cell_type": "code",
   "execution_count": 11,
   "id": "eafdbfcc-c970-40fc-a560-b8a6b5ffde46",
   "metadata": {},
   "outputs": [
    {
     "data": {
      "text/plain": [
       "array([-7.2102612e-01,  1.3880742e+00, -9.3839264e-01, -1.8524036e-01,\n",
       "       -7.0749654e-04, -4.4565272e-01, -1.0296539e+00,  1.1755080e+00,\n",
       "        3.0063948e-01,  9.4668508e-01, -1.2329451e+00, -6.3297433e-01,\n",
       "        1.2171296e+00, -2.2613432e+00, -1.2560636e+00, -2.4049167e-02,\n",
       "       -1.3478136e-01, -6.9278926e-01, -6.4293486e-01, -1.4939372e-02,\n",
       "       -6.9085807e-01,  4.9455237e-01, -1.1607069e+00, -1.5537587e-01,\n",
       "        1.2532537e+00,  7.6935776e-02, -1.3759880e+00,  1.9183478e+00,\n",
       "       -1.9095920e-01,  2.0333050e-01, -2.5170761e-01,  1.1542524e-01,\n",
       "       -7.1097958e-01,  4.4042104e-01, -3.5711750e-01, -4.9884811e-01,\n",
       "        9.6443653e-02,  1.5001473e+00,  9.6783751e-01,  1.1409825e+00,\n",
       "       -1.1091096e+00, -3.5918599e-01,  1.1125340e+00,  3.4643194e-01,\n",
       "        6.3091409e-01,  1.0984976e-01,  5.9883744e-01,  1.5782026e+00,\n",
       "       -6.4633042e-01,  1.1386195e+00, -3.4513858e-01,  2.3148993e-01,\n",
       "        1.6372793e+00,  5.1611888e-01,  9.4261885e-02,  1.0894654e+00,\n",
       "       -3.4278899e-01,  8.9063054e-01, -3.3139673e-01,  1.1518688e+00,\n",
       "        3.8539681e-01, -9.2376077e-01, -1.0358139e+00,  3.3248463e-01,\n",
       "        4.3138826e-01, -7.1292594e-02,  1.1043091e+00,  3.7649468e-01,\n",
       "       -1.0590333e-01, -5.9011471e-01,  1.4539970e+00,  3.0788321e-02,\n",
       "        1.5558745e+00, -7.9699844e-01, -8.2112873e-01,  1.1447078e+00,\n",
       "       -1.1888080e+00,  7.7764535e-01,  8.3254856e-01, -4.1566795e-01,\n",
       "        3.4178221e-01, -1.0234249e-01,  6.9336045e-01,  5.8004284e-01,\n",
       "        1.2077432e+00, -1.9922006e-01, -7.1080869e-01,  1.2082762e+00,\n",
       "        1.6037780e+00,  6.1269134e-01,  2.2789619e+00,  1.1217288e+00,\n",
       "        6.2214625e-01,  3.2646370e-01, -6.9829357e-01,  8.5078013e-01,\n",
       "       -4.6458212e-01, -3.3314583e-01, -1.4272654e+00,  1.2387888e+00,\n",
       "       -5.2630424e-01,  1.1736939e+00, -5.5289584e-01,  3.8475889e-01,\n",
       "        7.6147753e-01, -5.5540508e-01, -5.5104351e-01,  7.9180449e-01,\n",
       "       -1.1837187e+00,  5.4626018e-01, -1.5433776e+00,  5.4836398e-01,\n",
       "       -8.2457304e-01, -1.9508082e-01,  1.5121980e+00, -9.1789794e-01,\n",
       "        2.1668045e-02, -8.3618182e-01,  1.7026179e+00,  3.0070484e-01,\n",
       "       -5.4403216e-02,  2.0229468e+00, -8.0531222e-01,  3.1434658e-01,\n",
       "       -2.1322726e-01, -6.8760842e-01, -5.3497392e-01, -2.5549870e+00,\n",
       "        1.4960973e+00,  1.1243513e+00, -7.8854132e-01,  9.5136446e-01,\n",
       "        3.9891291e-01,  8.8310224e-01,  5.8068907e-01,  4.1109428e-01,\n",
       "       -1.2744484e+00, -1.9131043e+00,  7.0844960e-01, -1.5440488e+00,\n",
       "        1.0140624e+00,  1.3199492e+00,  1.1918956e+00,  3.2624507e-01,\n",
       "       -2.3619258e-01,  3.3544987e-01, -6.6843694e-01,  1.8951471e-01,\n",
       "       -1.2620959e+00, -7.6810622e-01, -2.7879043e-02,  1.4921461e+00,\n",
       "       -1.5323406e+00,  6.7895979e-02,  7.1417296e-01, -1.1051680e+00,\n",
       "        6.3358670e-01, -7.4012764e-02, -5.5716252e-01, -5.5134320e-01,\n",
       "        5.9281766e-01,  1.6617095e+00, -1.1498694e+00, -1.3097868e+00,\n",
       "        2.7847013e-01, -9.4726235e-01,  2.8187668e-01, -3.0811593e-01,\n",
       "       -3.9504117e-01,  1.1157824e+00,  5.7130128e-01, -6.2335652e-01,\n",
       "       -1.2805003e-01,  7.4915189e-01,  1.7874105e+00,  7.3814869e-02,\n",
       "        1.9028756e-01, -2.2566767e-01, -1.1744664e+00, -1.2645282e-01,\n",
       "        6.2104577e-01,  2.5413556e+00, -1.9603439e-01, -3.5865554e-01,\n",
       "       -3.6335549e-01, -3.1975743e-01,  8.2342960e-02,  1.1247922e+00,\n",
       "        6.0468912e-01, -6.0319370e-01,  1.3084283e+00,  1.0837216e-01,\n",
       "       -2.0223038e+00, -5.2349156e-01,  1.1999192e+00,  1.1947443e-01,\n",
       "       -3.4621418e-01, -1.6061324e+00,  2.7757651e-01, -8.2877165e-01,\n",
       "        1.8326082e+00,  3.4707233e-01, -1.0239331e-03, -7.0832264e-01,\n",
       "        5.1831359e-01,  2.9759058e-01, -7.5503206e-01,  6.3173097e-01,\n",
       "        1.6129788e+00, -5.9871143e-01,  2.7426863e-01,  9.3379885e-01,\n",
       "       -1.9603227e+00, -6.1795580e-01,  5.0431561e-01,  1.2274134e+00,\n",
       "        7.2948676e-01, -1.2382988e+00, -4.1636094e-02, -5.6422728e-01,\n",
       "       -1.3730533e-01, -5.3002065e-01,  7.0490101e-03, -5.8339782e-02,\n",
       "       -2.2488995e-01,  2.4739178e-01,  2.8688574e-01,  1.5177281e+00,\n",
       "       -5.6434727e-01,  9.7508526e-01,  3.9431319e-01, -1.2480817e-02,\n",
       "        3.8668898e-01,  1.1910871e+00,  9.8967953e-03,  2.9021594e-01,\n",
       "        5.5559915e-01, -5.9940153e-01,  5.8771890e-02, -1.1550933e+00,\n",
       "       -8.9705408e-01,  6.5921851e-02, -2.8148478e-01,  2.7465883e-01,\n",
       "        6.0019329e-02,  1.6885796e+00,  9.6058583e-01, -7.0666850e-01,\n",
       "       -8.1476476e-03,  1.4815091e-01, -9.3042523e-01,  5.1250058e-01,\n",
       "       -3.4233657e-01,  1.2154832e+00, -8.1345367e-01, -2.5763273e+00,\n",
       "        1.0190511e+00,  7.7381539e-01,  5.4798555e-01, -4.5415509e-01,\n",
       "        1.5220358e+00,  4.0334654e-01, -2.0026684e+00,  6.3162649e-01,\n",
       "        1.2896133e-02,  4.3396437e-01,  1.0993469e+00, -1.1038940e+00,\n",
       "       -7.9825032e-01, -7.6795042e-01, -3.7759629e-01, -1.3363619e+00,\n",
       "       -2.1466861e+00, -6.1945736e-01, -1.8449327e-01, -2.3609030e-01,\n",
       "       -1.0201691e+00,  1.6113394e+00, -1.0503773e-01,  6.1253399e-01,\n",
       "       -1.7009071e-01,  1.5830582e+00,  1.0901819e+00,  1.2755342e+00,\n",
       "        1.0678081e-01,  8.9667124e-01, -6.8755877e-01,  7.9648888e-01,\n",
       "       -1.9816412e+00, -9.8679155e-01,  1.1945226e+00, -5.1725096e-01,\n",
       "        5.9292763e-02, -6.5672910e-01,  8.4340924e-01, -1.6249194e+00,\n",
       "       -2.2631125e-01, -7.6208520e-01, -9.5463163e-01,  4.0369311e-01],\n",
       "      dtype=float32)"
      ]
     },
     "execution_count": 11,
     "metadata": {},
     "output_type": "execute_result"
    }
   ],
   "source": [
    "w2v_model.wv.get_vector('like')"
   ]
  },
  {
   "cell_type": "code",
   "execution_count": 12,
   "id": "11505924-ceb4-49ed-bc05-3f2c2b624271",
   "metadata": {},
   "outputs": [
    {
     "name": "stdout",
     "output_type": "stream",
     "text": [
      "The total number of words are :  50751\n"
     ]
    }
   ],
   "source": [
    "# total numberof extracted words.\n",
    "vocab=w2v_model.wv.key_to_index\n",
    "print(\"The total number of words are : \",len(vocab))"
   ]
  },
  {
   "cell_type": "code",
   "execution_count": 13,
   "id": "a49cc07e-75eb-4bcd-a36c-f58b65aee861",
   "metadata": {},
   "outputs": [
    {
     "data": {
      "text/plain": [
       "[('mejores', 0.9043143391609192),\n",
       " ('dougducey', 0.8937481045722961),\n",
       " ('sooper', 0.8910725116729736),\n",
       " ('faggot', 0.886925220489502),\n",
       " ('kellogg', 0.885707676410675),\n",
       " ('rickgladstone', 0.8813628554344177),\n",
       " ('ustedes', 0.8789780139923096),\n",
       " ('albert', 0.8783929944038391),\n",
       " ('wearethemu', 0.8773261308670044),\n",
       " ('riding', 0.8761908411979675)]"
      ]
     },
     "execution_count": 13,
     "metadata": {},
     "output_type": "execute_result"
    }
   ],
   "source": [
    "w2v_model.wv.most_similar('king')"
   ]
  },
  {
   "cell_type": "code",
   "execution_count": 14,
   "id": "adea4e21-f9a3-4edf-b587-340bc3023709",
   "metadata": {},
   "outputs": [
    {
     "data": {
      "text/plain": [
       "0.51607466"
      ]
     },
     "execution_count": 14,
     "metadata": {},
     "output_type": "execute_result"
    }
   ],
   "source": [
    "w2v_model.wv.similarity('good','like')"
   ]
  },
  {
   "cell_type": "code",
   "execution_count": 15,
   "id": "1c89ce7f-bbd7-4825-bae5-a25076953cd8",
   "metadata": {},
   "outputs": [],
   "source": [
    "vocab=list(vocab.keys())\n"
   ]
  },
  {
   "cell_type": "code",
   "execution_count": 16,
   "id": "e3ee171c-ce33-470b-bb80-e66fb93ede96",
   "metadata": {},
   "outputs": [
    {
     "name": "stdout",
     "output_type": "stream",
     "text": [
      "The no of key-value pairs :  50751\n"
     ]
    }
   ],
   "source": [
    "word_vec_dict={}\n",
    "for word in vocab:\n",
    "  word_vec_dict[word]=w2v_model.wv.get_vector(word)\n",
    "print(\"The no of key-value pairs : \",len(word_vec_dict)) # should come equal to vocab size"
   ]
  },
  {
   "cell_type": "code",
   "execution_count": 17,
   "id": "7e5cdf23-4e9b-4eff-815b-0177943c23b9",
   "metadata": {},
   "outputs": [],
   "source": [
    "data['clean_text']=data['OriginalTweet'].apply(clean_reviews)"
   ]
  },
  {
   "cell_type": "code",
   "execution_count": 18,
   "id": "c2882fc9-c0f4-4a42-bc37-ee13b63e9d51",
   "metadata": {},
   "outputs": [
    {
     "name": "stdout",
     "output_type": "stream",
     "text": [
      "50\n"
     ]
    }
   ],
   "source": [
    "maxi=-1\n",
    "for i,rev in enumerate(data['clean_text']):\n",
    "    tokens=rev.split()\n",
    "    if(len(tokens)>maxi):\n",
    "        maxi=len(tokens)\n",
    "print(maxi)"
   ]
  },
  {
   "cell_type": "code",
   "execution_count": 19,
   "id": "8b27a769-61b2-4bdd-8aa4-9daeb392f872",
   "metadata": {},
   "outputs": [],
   "source": [
    "tok = Tokenizer()\n",
    "tok.fit_on_texts(data['clean_text'])\n",
    "vocab_size = len(tok.word_index) + 1\n",
    "encd_rev = tok.texts_to_sequences(data['clean_text'])"
   ]
  },
  {
   "cell_type": "code",
   "execution_count": 20,
   "id": "97eadcf9-dc05-49d0-b8b3-c87368bf9f47",
   "metadata": {},
   "outputs": [],
   "source": [
    "\n",
    "\n",
    "max_rev_len=1565  # max lenght of a review\n",
    "vocab_size = len(tok.word_index) + 1  # total no of words\n",
    "embed_dim=300 # embedding dimension as choosen in word2vec constructor\n",
    "\n"
   ]
  },
  {
   "cell_type": "code",
   "execution_count": 21,
   "id": "85e79b2a-ac62-4af9-bd3e-528f8ad0ca4a",
   "metadata": {},
   "outputs": [
    {
     "data": {
      "text/plain": [
       "(25000, 1565)"
      ]
     },
     "execution_count": 21,
     "metadata": {},
     "output_type": "execute_result"
    }
   ],
   "source": [
    "# now padding to have a amximum length of 1565\n",
    "pad_rev= pad_sequences(encd_rev, maxlen=max_rev_len, padding='post')\n",
    "pad_rev.shape   # note that we had 100K reviews and we have padded each review to have  a lenght of 1565 words."
   ]
  },
  {
   "cell_type": "code",
   "execution_count": 22,
   "id": "734ccd9f-f6bb-4fd7-8ffb-7384c874cb14",
   "metadata": {},
   "outputs": [],
   "source": [
    "# now creating the embedding matrix\n",
    "embed_matrix=np.zeros(shape=(vocab_size,embed_dim))\n",
    "for word,i in tok.word_index.items():\n",
    "  embed_vector=word_vec_dict.get(word)\n",
    "  if embed_vector is not None:  # word is in the vocabulary learned by the w2v model\n",
    "    embed_matrix[i]=embed_vector\n",
    "  # if word is not found then embed_vector corressponding to that vector will stay zero."
   ]
  },
  {
   "cell_type": "code",
   "execution_count": 23,
   "id": "0bfe7781-1f6b-42d8-a3b2-95b8b1df4492",
   "metadata": {},
   "outputs": [
    {
     "name": "stdout",
     "output_type": "stream",
     "text": [
      "[-0.02750392  0.54612178 -0.16092816 -0.67771471  0.4198738  -0.60284567\n",
      " -1.21003509 -0.69855917  0.73795515  0.71069247 -0.69299793 -0.9165833\n",
      " -0.13159384  0.26842353  0.1751036  -0.95228893  1.3122561  -1.00626969\n",
      "  1.40114915  0.42587125  0.39898035  0.52311689 -0.20614749 -1.11403\n",
      "  0.88601553 -0.17997016 -0.89073187 -0.40507635  0.57425451 -1.05690444\n",
      " -0.98451596 -0.90757811  0.39620081  0.23485166  0.33714616 -0.80663007\n",
      "  0.44412255  0.65748131 -0.38454556 -0.17153488 -1.34755456  0.17895578\n",
      "  0.23003264  0.23455712 -0.05030574 -0.97384465  1.51802588 -0.59036309\n",
      "  0.11366066 -0.15471418 -0.83221483  1.09006774  0.66225344  1.18781924\n",
      "  0.03055411  0.55556804  1.0239464   0.44665956 -0.62596917 -0.10734163\n",
      "  0.46336749  0.39424837 -1.36634302  0.29948881  0.98426598  0.41204244\n",
      " -0.31826544 -0.07141674 -0.32245269  1.27899563 -0.55263686 -1.02319431\n",
      "  0.65954924 -0.98889363 -1.34595931  1.46814597 -0.96738416 -0.79384363\n",
      " -0.19660845 -0.21896066 -0.67328823 -0.49965021 -0.1069492   0.55008984\n",
      " -0.06961149  0.22819515  0.41667032 -0.05426186  1.73801792  1.6274451\n",
      "  1.39063561 -0.54487085 -1.68910551 -0.6411159   0.06322076  1.11800015\n",
      " -0.60980248  0.25537139 -1.06658113  0.33639625 -0.10136621 -0.46095857\n",
      " -0.46078527 -0.71848989  0.25994453 -0.82797945 -0.54809517  0.33290717\n",
      " -0.52738816  0.94769365 -1.69955993 -0.16217767 -0.61186558  0.33442309\n",
      "  0.35933489 -0.33094001 -2.52322745 -1.12874436  0.94366169  0.3333641\n",
      "  0.37334266  1.23596156  0.26463607  0.52364421  0.2618818  -1.23530757\n",
      "  1.18096805 -1.12185359 -0.63844782 -0.86706376  0.30236429 -0.57430935\n",
      " -0.32320949  0.67694867  0.02516237  0.5153656   0.15736747 -1.06641173\n",
      " -0.03384384 -0.6504401   0.11842331 -0.110373   -0.85767663 -1.12951255\n",
      " -0.85562688  0.68947166 -1.48773897 -0.38119259 -0.61527222 -0.07786322\n",
      "  0.01013879 -0.65606052 -1.1775732   0.0276356   0.59142464  0.05689252\n",
      " -1.29742467 -0.27409717  0.25412828 -0.32828736 -0.87664211  1.98820794\n",
      " -1.14866233 -1.02206945  0.5550496   0.34235391 -0.12513474 -0.67340446\n",
      "  0.49179474  1.11589205 -0.36131594 -0.24457386  0.57753915 -0.36634216\n",
      "  0.17801693 -0.35660067  0.49644968 -0.56224144 -1.36616778  1.00631011\n",
      "  0.13118048  0.46330604  0.37660018 -0.15658805  1.14918435  0.50208259\n",
      "  0.12752751  0.12465978  0.01300719  0.44736522 -0.753856    0.73026365\n",
      "  0.31458092  0.15125991  0.51808202  0.06677232 -0.31908914 -0.86951125\n",
      "  0.00719283 -0.51516801 -0.19775036 -0.12221794  0.1358185  -1.35202181\n",
      "  0.56985289  0.5280025  -0.18025199  1.6086266   1.17095101  0.42989576\n",
      " -0.18463802 -0.41637728  0.17174286  0.7941488   0.57530606  0.29985264\n",
      "  1.10371506 -0.43387192 -0.12569785  0.65281278  1.16301882  0.11830586\n",
      " -1.86417437 -1.34993291  1.58579218 -0.48772278 -1.24572921 -0.04247833\n",
      " -0.88147604  0.2254829   0.9878493   0.42832059 -0.27441451 -0.27607518\n",
      " -0.30851707 -0.14969221 -0.50809741 -0.78513455 -0.84013981 -0.68889445\n",
      " -1.24800706 -0.54591393  1.22588599 -0.44809487 -0.47978866 -0.80974609\n",
      " -0.3779546  -0.70835298  0.03301636  0.67478436 -0.22935891  0.728737\n",
      " -0.69641161  0.4099316   0.33207247 -0.87000549  1.47692621 -0.58322918\n",
      "  0.07110123  0.01011774  0.32244483  1.0195359  -0.93110877  0.95301527\n",
      " -0.37400606 -0.63956994 -0.17398518 -1.37449455  0.24009922  0.33889496\n",
      " -0.80261755 -0.86671412 -0.81381613 -0.83515555  0.71535355 -0.10624887\n",
      "  0.63764054  0.14699252 -0.49313506 -1.08798373  0.92007351  1.77691305\n",
      " -0.64120984  0.79261178 -0.12554343 -0.20312056 -0.69035989  1.55682349\n",
      " -0.12222341  0.52517968  0.99385059  0.31972057  0.20014992 -0.68580085\n",
      " -1.12483478 -0.10225427 -0.39292151 -1.12282729  0.73559749  0.6959458 ]\n"
     ]
    }
   ],
   "source": [
    "# checking.\n",
    "print(embed_matrix[14])"
   ]
  },
  {
   "cell_type": "code",
   "execution_count": 24,
   "id": "1d2e095c-431f-47ab-b167-7e1383d0ab91",
   "metadata": {},
   "outputs": [
    {
     "data": {
      "text/html": [
       "<div>\n",
       "<style scoped>\n",
       "    .dataframe tbody tr th:only-of-type {\n",
       "        vertical-align: middle;\n",
       "    }\n",
       "\n",
       "    .dataframe tbody tr th {\n",
       "        vertical-align: top;\n",
       "    }\n",
       "\n",
       "    .dataframe thead th {\n",
       "        text-align: right;\n",
       "    }\n",
       "</style>\n",
       "<table border=\"1\" class=\"dataframe\">\n",
       "  <thead>\n",
       "    <tr style=\"text-align: right;\">\n",
       "      <th></th>\n",
       "      <th>OriginalTweet</th>\n",
       "      <th>Extremely Negative</th>\n",
       "      <th>Extremely Positive</th>\n",
       "      <th>Negative</th>\n",
       "      <th>Neutral</th>\n",
       "      <th>Positive</th>\n",
       "      <th>clean_text</th>\n",
       "    </tr>\n",
       "  </thead>\n",
       "  <tbody>\n",
       "    <tr>\n",
       "      <th>0</th>\n",
       "      <td>#Coronavirus: Asian woman dragged out of a sup...</td>\n",
       "      <td>0.0</td>\n",
       "      <td>0.0</td>\n",
       "      <td>0.0</td>\n",
       "      <td>0.0</td>\n",
       "      <td>1.0</td>\n",
       "      <td>coronavirus asian woman dragged supermarket gh...</td>\n",
       "    </tr>\n",
       "    <tr>\n",
       "      <th>1</th>\n",
       "      <td>Went to the grocery store and came home to spe...</td>\n",
       "      <td>0.0</td>\n",
       "      <td>0.0</td>\n",
       "      <td>0.0</td>\n",
       "      <td>1.0</td>\n",
       "      <td>0.0</td>\n",
       "      <td>went grocery store came home spend min wiping ...</td>\n",
       "    </tr>\n",
       "    <tr>\n",
       "      <th>2</th>\n",
       "      <td>6 key #consumer behavior threshold levels that...</td>\n",
       "      <td>0.0</td>\n",
       "      <td>0.0</td>\n",
       "      <td>0.0</td>\n",
       "      <td>0.0</td>\n",
       "      <td>1.0</td>\n",
       "      <td>key consumer behavior threshold level tie dire...</td>\n",
       "    </tr>\n",
       "    <tr>\n",
       "      <th>3</th>\n",
       "      <td>With the #Coronavirus &amp;amp; the #CDC guideline...</td>\n",
       "      <td>0.0</td>\n",
       "      <td>0.0</td>\n",
       "      <td>0.0</td>\n",
       "      <td>0.0</td>\n",
       "      <td>1.0</td>\n",
       "      <td>coronavirus cdc guideline staysafestayhome get...</td>\n",
       "    </tr>\n",
       "    <tr>\n",
       "      <th>4</th>\n",
       "      <td>On behalf of all my peers in the supermarket i...</td>\n",
       "      <td>0.0</td>\n",
       "      <td>0.0</td>\n",
       "      <td>0.0</td>\n",
       "      <td>0.0</td>\n",
       "      <td>1.0</td>\n",
       "      <td>behalf peer supermarket industry providing aro...</td>\n",
       "    </tr>\n",
       "  </tbody>\n",
       "</table>\n",
       "</div>"
      ],
      "text/plain": [
       "                                       OriginalTweet  Extremely Negative  \\\n",
       "0  #Coronavirus: Asian woman dragged out of a sup...                 0.0   \n",
       "1  Went to the grocery store and came home to spe...                 0.0   \n",
       "2  6 key #consumer behavior threshold levels that...                 0.0   \n",
       "3  With the #Coronavirus &amp; the #CDC guideline...                 0.0   \n",
       "4  On behalf of all my peers in the supermarket i...                 0.0   \n",
       "\n",
       "   Extremely Positive  Negative  Neutral  Positive  \\\n",
       "0                 0.0       0.0      0.0       1.0   \n",
       "1                 0.0       0.0      1.0       0.0   \n",
       "2                 0.0       0.0      0.0       1.0   \n",
       "3                 0.0       0.0      0.0       1.0   \n",
       "4                 0.0       0.0      0.0       1.0   \n",
       "\n",
       "                                          clean_text  \n",
       "0  coronavirus asian woman dragged supermarket gh...  \n",
       "1  went grocery store came home spend min wiping ...  \n",
       "2  key consumer behavior threshold level tie dire...  \n",
       "3  coronavirus cdc guideline staysafestayhome get...  \n",
       "4  behalf peer supermarket industry providing aro...  "
      ]
     },
     "execution_count": 24,
     "metadata": {},
     "output_type": "execute_result"
    }
   ],
   "source": [
    "data.head()"
   ]
  },
  {
   "cell_type": "code",
   "execution_count": 25,
   "id": "b578296c-e81d-40f9-9e05-04d74dca2269",
   "metadata": {},
   "outputs": [
    {
     "data": {
      "text/html": [
       "<div>\n",
       "<style scoped>\n",
       "    .dataframe tbody tr th:only-of-type {\n",
       "        vertical-align: middle;\n",
       "    }\n",
       "\n",
       "    .dataframe tbody tr th {\n",
       "        vertical-align: top;\n",
       "    }\n",
       "\n",
       "    .dataframe thead th {\n",
       "        text-align: right;\n",
       "    }\n",
       "</style>\n",
       "<table border=\"1\" class=\"dataframe\">\n",
       "  <thead>\n",
       "    <tr style=\"text-align: right;\">\n",
       "      <th></th>\n",
       "      <th>Extremely Negative</th>\n",
       "      <th>Extremely Positive</th>\n",
       "      <th>Negative</th>\n",
       "      <th>Neutral</th>\n",
       "      <th>Positive</th>\n",
       "    </tr>\n",
       "  </thead>\n",
       "  <tbody>\n",
       "    <tr>\n",
       "      <th>0</th>\n",
       "      <td>0.0</td>\n",
       "      <td>0.0</td>\n",
       "      <td>0.0</td>\n",
       "      <td>0.0</td>\n",
       "      <td>1.0</td>\n",
       "    </tr>\n",
       "    <tr>\n",
       "      <th>1</th>\n",
       "      <td>0.0</td>\n",
       "      <td>0.0</td>\n",
       "      <td>0.0</td>\n",
       "      <td>1.0</td>\n",
       "      <td>0.0</td>\n",
       "    </tr>\n",
       "    <tr>\n",
       "      <th>2</th>\n",
       "      <td>0.0</td>\n",
       "      <td>0.0</td>\n",
       "      <td>0.0</td>\n",
       "      <td>0.0</td>\n",
       "      <td>1.0</td>\n",
       "    </tr>\n",
       "    <tr>\n",
       "      <th>3</th>\n",
       "      <td>0.0</td>\n",
       "      <td>0.0</td>\n",
       "      <td>0.0</td>\n",
       "      <td>0.0</td>\n",
       "      <td>1.0</td>\n",
       "    </tr>\n",
       "    <tr>\n",
       "      <th>4</th>\n",
       "      <td>0.0</td>\n",
       "      <td>0.0</td>\n",
       "      <td>0.0</td>\n",
       "      <td>0.0</td>\n",
       "      <td>1.0</td>\n",
       "    </tr>\n",
       "  </tbody>\n",
       "</table>\n",
       "</div>"
      ],
      "text/plain": [
       "   Extremely Negative  Extremely Positive  Negative  Neutral  Positive\n",
       "0                 0.0                 0.0       0.0      0.0       1.0\n",
       "1                 0.0                 0.0       0.0      1.0       0.0\n",
       "2                 0.0                 0.0       0.0      0.0       1.0\n",
       "3                 0.0                 0.0       0.0      0.0       1.0\n",
       "4                 0.0                 0.0       0.0      0.0       1.0"
      ]
     },
     "execution_count": 25,
     "metadata": {},
     "output_type": "execute_result"
    }
   ],
   "source": [
    "Y = data.drop(\"OriginalTweet\", axis = 1)\n",
    "Y.drop(\"clean_text\", axis=1, inplace = True)\n",
    "Y.head()"
   ]
  },
  {
   "cell_type": "code",
   "execution_count": 26,
   "id": "c099649e-7af8-495c-b581-c9a8f22f89fc",
   "metadata": {},
   "outputs": [],
   "source": [
    "# prepare train and val sets first\n",
    "x_train,x_test,y_train,y_test=train_test_split(pad_rev,Y,test_size=0.20,random_state=42)"
   ]
  },
  {
   "cell_type": "code",
   "execution_count": 27,
   "id": "8751b488-1518-412d-85cf-0df0829d0438",
   "metadata": {},
   "outputs": [
    {
     "name": "stderr",
     "output_type": "stream",
     "text": [
      "2022-12-12 09:26:17.190096: W tensorflow/compiler/xla/stream_executor/platform/default/dso_loader.cc:64] Could not load dynamic library 'libcuda.so.1'; dlerror: libcuda.so.1: cannot open shared object file: No such file or directory\n",
      "2022-12-12 09:26:17.190118: W tensorflow/compiler/xla/stream_executor/cuda/cuda_driver.cc:265] failed call to cuInit: UNKNOWN ERROR (303)\n",
      "2022-12-12 09:26:17.190142: I tensorflow/compiler/xla/stream_executor/cuda/cuda_diagnostics.cc:156] kernel driver does not appear to be running on this host (kardina): /proc/driver/nvidia/version does not exist\n",
      "2022-12-12 09:26:17.190321: I tensorflow/core/platform/cpu_feature_guard.cc:193] This TensorFlow binary is optimized with oneAPI Deep Neural Network Library (oneDNN) to use the following CPU instructions in performance-critical operations:  AVX2 FMA\n",
      "To enable them in other operations, rebuild TensorFlow with the appropriate compiler flags.\n"
     ]
    }
   ],
   "source": [
    "from keras.initializers import Constant\n",
    "from keras.layers import ReLU\n",
    "from keras.layers import Dropout\n",
    "model=Sequential()\n",
    "model.add(Embedding(input_dim=vocab_size,output_dim=embed_dim,input_length=max_rev_len,embeddings_initializer=Constant(embed_matrix)))\n",
    "# model.add(CuDNNLSTM(64,return_sequences=False)) # loss stucks at about \n",
    "model.add(Flatten())\n",
    "model.add(Dense(16,activation='relu'))\n",
    "model.add(Dropout(0.50))\n",
    "# model.add(Dense(16,activation='relu'))\n",
    "# model.add(Dropout(0.20))\n",
    "model.add(Dense(5,activation='softmax'))  # sigmod for bin. classification."
   ]
  },
  {
   "cell_type": "code",
   "execution_count": 28,
   "id": "3ccbe137-4b79-4280-b4b0-059017d19175",
   "metadata": {},
   "outputs": [
    {
     "name": "stdout",
     "output_type": "stream",
     "text": [
      "Model: \"sequential\"\n",
      "_________________________________________________________________\n",
      " Layer (type)                Output Shape              Param #   \n",
      "=================================================================\n",
      " embedding (Embedding)       (None, 1565, 300)         15225600  \n",
      "                                                                 \n",
      " flatten (Flatten)           (None, 469500)            0         \n",
      "                                                                 \n",
      " dense (Dense)               (None, 16)                7512016   \n",
      "                                                                 \n",
      " dropout (Dropout)           (None, 16)                0         \n",
      "                                                                 \n",
      " dense_1 (Dense)             (None, 5)                 85        \n",
      "                                                                 \n",
      "=================================================================\n",
      "Total params: 22,737,701\n",
      "Trainable params: 22,737,701\n",
      "Non-trainable params: 0\n",
      "_________________________________________________________________\n"
     ]
    }
   ],
   "source": [
    "model.summary()"
   ]
  },
  {
   "cell_type": "code",
   "execution_count": 29,
   "id": "52761af8-f41f-4e68-8523-0bfdb8e9184e",
   "metadata": {},
   "outputs": [],
   "source": [
    "# compile the model\n",
    "model.compile(optimizer=keras.optimizers.RMSprop(lr=1e-3),loss='binary_crossentropy',metrics=['accuracy'])"
   ]
  },
  {
   "cell_type": "code",
   "execution_count": 61,
   "id": "0131f01f-371d-41d3-92c8-ef00ad669334",
   "metadata": {},
   "outputs": [],
   "source": [
    "# specify batch size and epocj=hs for training.\n",
    "epochs=20\n",
    "batch_size=128"
   ]
  },
  {
   "cell_type": "code",
   "execution_count": 62,
   "id": "2f7b30f3-ceb6-44f1-8093-597bf8d74dce",
   "metadata": {},
   "outputs": [
    {
     "name": "stdout",
     "output_type": "stream",
     "text": [
      "Epoch 1/20\n",
      "157/157 [==============================] - 32s 202ms/step - loss: 0.4028 - accuracy: 0.4435 - val_loss: 0.3986 - val_accuracy: 0.4936\n",
      "Epoch 2/20\n",
      "157/157 [==============================] - 34s 215ms/step - loss: 0.3907 - accuracy: 0.4647 - val_loss: 0.3858 - val_accuracy: 0.5264\n",
      "Epoch 3/20\n",
      "157/157 [==============================] - 34s 214ms/step - loss: 0.3785 - accuracy: 0.4843 - val_loss: 0.3964 - val_accuracy: 0.4786\n",
      "Epoch 4/20\n",
      "157/157 [==============================] - 34s 215ms/step - loss: 0.3656 - accuracy: 0.5031 - val_loss: 0.3898 - val_accuracy: 0.5222\n",
      "Epoch 5/20\n",
      "157/157 [==============================] - 34s 216ms/step - loss: 0.3546 - accuracy: 0.5203 - val_loss: 0.3892 - val_accuracy: 0.5102\n",
      "Epoch 6/20\n",
      "157/157 [==============================] - 34s 215ms/step - loss: 0.3434 - accuracy: 0.5424 - val_loss: 0.3702 - val_accuracy: 0.5580\n",
      "Epoch 7/20\n",
      "157/157 [==============================] - 34s 215ms/step - loss: 0.3329 - accuracy: 0.5669 - val_loss: 0.3702 - val_accuracy: 0.5682\n",
      "Epoch 8/20\n",
      "157/157 [==============================] - 34s 216ms/step - loss: 0.3236 - accuracy: 0.5868 - val_loss: 0.3709 - val_accuracy: 0.5616\n",
      "Epoch 9/20\n",
      "157/157 [==============================] - 34s 215ms/step - loss: 0.3152 - accuracy: 0.6038 - val_loss: 0.3862 - val_accuracy: 0.5462\n",
      "Epoch 10/20\n",
      "157/157 [==============================] - 34s 215ms/step - loss: 0.3081 - accuracy: 0.6188 - val_loss: 0.3665 - val_accuracy: 0.5682\n",
      "Epoch 11/20\n",
      "157/157 [==============================] - 34s 216ms/step - loss: 0.3011 - accuracy: 0.6300 - val_loss: 0.3722 - val_accuracy: 0.5744\n",
      "Epoch 12/20\n",
      "157/157 [==============================] - 34s 214ms/step - loss: 0.2927 - accuracy: 0.6456 - val_loss: 0.3818 - val_accuracy: 0.5850\n",
      "Epoch 13/20\n",
      "157/157 [==============================] - 34s 217ms/step - loss: 0.2867 - accuracy: 0.6552 - val_loss: 0.3896 - val_accuracy: 0.5800\n",
      "Epoch 14/20\n",
      "157/157 [==============================] - 34s 218ms/step - loss: 0.2797 - accuracy: 0.6652 - val_loss: 0.3870 - val_accuracy: 0.5854\n",
      "Epoch 15/20\n",
      "157/157 [==============================] - 34s 217ms/step - loss: 0.2728 - accuracy: 0.6792 - val_loss: 0.4105 - val_accuracy: 0.5854\n",
      "Epoch 16/20\n",
      "157/157 [==============================] - 34s 219ms/step - loss: 0.2651 - accuracy: 0.6938 - val_loss: 0.4032 - val_accuracy: 0.5784\n",
      "Epoch 17/20\n",
      "157/157 [==============================] - 34s 219ms/step - loss: 0.2594 - accuracy: 0.7031 - val_loss: 0.4136 - val_accuracy: 0.5766\n",
      "Epoch 18/20\n",
      "157/157 [==============================] - 35s 222ms/step - loss: 0.2525 - accuracy: 0.7132 - val_loss: 0.4103 - val_accuracy: 0.5636\n",
      "Epoch 19/20\n",
      "157/157 [==============================] - 36s 229ms/step - loss: 0.2487 - accuracy: 0.7188 - val_loss: 0.4311 - val_accuracy: 0.5788\n",
      "Epoch 20/20\n",
      "157/157 [==============================] - 36s 229ms/step - loss: 0.2445 - accuracy: 0.7219 - val_loss: 0.4357 - val_accuracy: 0.5720\n"
     ]
    },
    {
     "data": {
      "text/plain": [
       "<keras.callbacks.History at 0x7f987438fc10>"
      ]
     },
     "execution_count": 62,
     "metadata": {},
     "output_type": "execute_result"
    }
   ],
   "source": [
    "model.fit(x_train,y_train,epochs=epochs,batch_size=batch_size,validation_data=(x_test,y_test))"
   ]
  },
  {
   "cell_type": "code",
   "execution_count": 1,
   "id": "fa2cfe92-2a49-4174-908d-a1dca287154f",
   "metadata": {},
   "outputs": [
    {
     "ename": "NameError",
     "evalue": "name 'model' is not defined",
     "output_type": "error",
     "traceback": [
      "\u001b[0;31m---------------------------------------------------------------------------\u001b[0m",
      "\u001b[0;31mNameError\u001b[0m                                 Traceback (most recent call last)",
      "\u001b[0;32m/tmp/ipykernel_8835/3076549962.py\u001b[0m in \u001b[0;36m<module>\u001b[0;34m\u001b[0m\n\u001b[0;32m----> 1\u001b[0;31m \u001b[0mmodel\u001b[0m\u001b[0;34m.\u001b[0m\u001b[0msave\u001b[0m\u001b[0;34m(\u001b[0m\u001b[0;34m\"simple.keras\"\u001b[0m\u001b[0;34m)\u001b[0m\u001b[0;34m\u001b[0m\u001b[0;34m\u001b[0m\u001b[0m\n\u001b[0m",
      "\u001b[0;31mNameError\u001b[0m: name 'model' is not defined"
     ]
    }
   ],
   "source": [
    "model.save(\"simple.keras\")"
   ]
  },
  {
   "cell_type": "code",
   "execution_count": 40,
   "id": "e4e9e614-de3b-4687-9803-2b9d2726f836",
   "metadata": {},
   "outputs": [
    {
     "ename": "TypeError",
     "evalue": "'int' object is not iterable",
     "output_type": "error",
     "traceback": [
      "\u001b[0;31m---------------------------------------------------------------------------\u001b[0m",
      "\u001b[0;31mTypeError\u001b[0m                                 Traceback (most recent call last)",
      "\u001b[0;32m/tmp/ipykernel_8835/1086788264.py\u001b[0m in \u001b[0;36m<module>\u001b[0;34m\u001b[0m\n\u001b[1;32m      3\u001b[0m \u001b[0;34m\u001b[0m\u001b[0m\n\u001b[1;32m      4\u001b[0m \u001b[0;34m\u001b[0m\u001b[0m\n\u001b[0;32m----> 5\u001b[0;31m \u001b[0mvisualkeras\u001b[0m\u001b[0;34m.\u001b[0m\u001b[0mlayered_view\u001b[0m\u001b[0;34m(\u001b[0m\u001b[0mmodel\u001b[0m\u001b[0;34m)\u001b[0m\u001b[0;34m.\u001b[0m\u001b[0mshow\u001b[0m\u001b[0;34m(\u001b[0m\u001b[0;34m)\u001b[0m \u001b[0;31m# display using your system viewer\u001b[0m\u001b[0;34m\u001b[0m\u001b[0;34m\u001b[0m\u001b[0m\n\u001b[0m\u001b[1;32m      6\u001b[0m \u001b[0mvisualkeras\u001b[0m\u001b[0;34m.\u001b[0m\u001b[0mlayered_view\u001b[0m\u001b[0;34m(\u001b[0m\u001b[0mmodel\u001b[0m\u001b[0;34m,\u001b[0m \u001b[0mto_file\u001b[0m\u001b[0;34m=\u001b[0m\u001b[0;34m'output.png'\u001b[0m\u001b[0;34m)\u001b[0m \u001b[0;31m# write to disk\u001b[0m\u001b[0;34m\u001b[0m\u001b[0;34m\u001b[0m\u001b[0m\n\u001b[1;32m      7\u001b[0m \u001b[0mvisualkeras\u001b[0m\u001b[0;34m.\u001b[0m\u001b[0mlayered_view\u001b[0m\u001b[0;34m(\u001b[0m\u001b[0mmodel\u001b[0m\u001b[0;34m,\u001b[0m \u001b[0mto_file\u001b[0m\u001b[0;34m=\u001b[0m\u001b[0;34m'output.png'\u001b[0m\u001b[0;34m)\u001b[0m\u001b[0;34m.\u001b[0m\u001b[0mshow\u001b[0m\u001b[0;34m(\u001b[0m\u001b[0;34m)\u001b[0m \u001b[0;31m# write and show\u001b[0m\u001b[0;34m\u001b[0m\u001b[0;34m\u001b[0m\u001b[0m\n",
      "\u001b[0;32m~/miniconda3/lib/python3.9/site-packages/visualkeras/layered.py\u001b[0m in \u001b[0;36mlayered_view\u001b[0;34m(model, to_file, min_z, min_xy, max_z, max_xy, scale_z, scale_xy, type_ignore, index_ignore, color_map, one_dim_orientation, background_fill, draw_volume, padding, spacing, draw_funnel, shade_step, legend, font, font_color)\u001b[0m\n\u001b[1;32m     98\u001b[0m             \u001b[0mx\u001b[0m \u001b[0;34m=\u001b[0m \u001b[0mmin\u001b[0m\u001b[0;34m(\u001b[0m\u001b[0mmax\u001b[0m\u001b[0;34m(\u001b[0m\u001b[0mshape\u001b[0m\u001b[0;34m[\u001b[0m\u001b[0;36m1\u001b[0m\u001b[0;34m]\u001b[0m \u001b[0;34m*\u001b[0m \u001b[0mscale_xy\u001b[0m\u001b[0;34m,\u001b[0m \u001b[0mx\u001b[0m\u001b[0;34m)\u001b[0m\u001b[0;34m,\u001b[0m \u001b[0mmax_xy\u001b[0m\u001b[0;34m)\u001b[0m\u001b[0;34m\u001b[0m\u001b[0;34m\u001b[0m\u001b[0m\n\u001b[1;32m     99\u001b[0m             \u001b[0my\u001b[0m \u001b[0;34m=\u001b[0m \u001b[0mmin\u001b[0m\u001b[0;34m(\u001b[0m\u001b[0mmax\u001b[0m\u001b[0;34m(\u001b[0m\u001b[0mshape\u001b[0m\u001b[0;34m[\u001b[0m\u001b[0;36m2\u001b[0m\u001b[0;34m]\u001b[0m \u001b[0;34m*\u001b[0m \u001b[0mscale_xy\u001b[0m\u001b[0;34m,\u001b[0m \u001b[0my\u001b[0m\u001b[0;34m)\u001b[0m\u001b[0;34m,\u001b[0m \u001b[0mmax_xy\u001b[0m\u001b[0;34m)\u001b[0m\u001b[0;34m\u001b[0m\u001b[0;34m\u001b[0m\u001b[0m\n\u001b[0;32m--> 100\u001b[0;31m             \u001b[0mz\u001b[0m \u001b[0;34m=\u001b[0m \u001b[0mmin\u001b[0m\u001b[0;34m(\u001b[0m\u001b[0mmax\u001b[0m\u001b[0;34m(\u001b[0m\u001b[0mz\u001b[0m\u001b[0;34m)\u001b[0m\u001b[0;34m,\u001b[0m \u001b[0mmax_z\u001b[0m\u001b[0;34m)\u001b[0m\u001b[0;34m\u001b[0m\u001b[0;34m\u001b[0m\u001b[0m\n\u001b[0m\u001b[1;32m    101\u001b[0m         \u001b[0;32melif\u001b[0m \u001b[0mlen\u001b[0m\u001b[0;34m(\u001b[0m\u001b[0mshape\u001b[0m\u001b[0;34m)\u001b[0m \u001b[0;34m==\u001b[0m \u001b[0;36m2\u001b[0m\u001b[0;34m:\u001b[0m\u001b[0;34m\u001b[0m\u001b[0;34m\u001b[0m\u001b[0m\n\u001b[1;32m    102\u001b[0m             \u001b[0;32mif\u001b[0m \u001b[0mone_dim_orientation\u001b[0m \u001b[0;34m==\u001b[0m \u001b[0;34m'x'\u001b[0m\u001b[0;34m:\u001b[0m\u001b[0;34m\u001b[0m\u001b[0;34m\u001b[0m\u001b[0m\n",
      "\u001b[0;31mTypeError\u001b[0m: 'int' object is not iterable"
     ]
    }
   ],
   "source": [
    "import visualkeras\n",
    "\n",
    "\n",
    "\n",
    "visualkeras.layered_view(model).show() # display using your system viewer\n",
    "visualkeras.layered_view(model, to_file='output.png') # write to disk\n",
    "visualkeras.layered_view(model, to_file='output.png').show() # write and show\n",
    "\n",
    "visualkeras.layered_view(model)"
   ]
  },
  {
   "cell_type": "code",
   "execution_count": 30,
   "id": "d92660c7-be4f-4f32-95d3-4b3234f6049c",
   "metadata": {},
   "outputs": [
    {
     "data": {
      "image/png": "[encoded data removed]",
      "text/plain": [
       "<IPython.core.display.Image object>"
      ]
     },
     "execution_count": 30,
     "metadata": {},
     "output_type": "execute_result"
    }
   ],
   "source": [
    "keras.utils.plot_model(model, to_file=\"img.png\", show_shapes=True)"
   ]
  },
  {
   "cell_type": "code",
   "execution_count": 36,
   "id": "64d0ea8f-22b7-4b19-af13-2a001aaad100",
   "metadata": {},
   "outputs": [],
   "source": [
    "dnn=Sequential()\n",
    "dnn.add(Embedding(input_dim=vocab_size,output_dim=embed_dim,input_length=max_rev_len,embeddings_initializer=Constant(embed_matrix)))\n",
    "#dnn.add(CuDNNLSTM(64,return_sequences=False)) # loss stucks at about \n",
    "dnn.add(Flatten())\n",
    "dnn.add(Dense(32,activation='relu'))\n",
    "dnn.add(Dense(16,activation='relu'))\n",
    "dnn.add(Dense(4,activation='relu'))\n",
    "dnn.add(Dropout(0.20))\n",
    "dnn.add(Dense(4,activation='relu'))\n",
    "dnn.add(Dense(5,activation='softmax'))  # sigmod for bin. classification."
   ]
  },
  {
   "cell_type": "code",
   "execution_count": 37,
   "id": "0d8e8f16-04ef-486b-b7ce-b92466a9ded0",
   "metadata": {},
   "outputs": [
    {
     "name": "stdout",
     "output_type": "stream",
     "text": [
      "Model: \"sequential_3\"\n",
      "_________________________________________________________________\n",
      " Layer (type)                Output Shape              Param #   \n",
      "=================================================================\n",
      " embedding_3 (Embedding)     (None, 1565, 300)         15225600  \n",
      "                                                                 \n",
      " flatten_3 (Flatten)         (None, 469500)            0         \n",
      "                                                                 \n",
      " dense_12 (Dense)            (None, 32)                15024032  \n",
      "                                                                 \n",
      " dense_13 (Dense)            (None, 16)                528       \n",
      "                                                                 \n",
      " dense_14 (Dense)            (None, 4)                 68        \n",
      "                                                                 \n",
      " dropout_5 (Dropout)         (None, 4)                 0         \n",
      "                                                                 \n",
      " dense_15 (Dense)            (None, 4)                 20        \n",
      "                                                                 \n",
      " dense_16 (Dense)            (None, 5)                 25        \n",
      "                                                                 \n",
      "=================================================================\n",
      "Total params: 30,250,273\n",
      "Trainable params: 30,250,273\n",
      "Non-trainable params: 0\n",
      "_________________________________________________________________\n"
     ]
    }
   ],
   "source": [
    "dnn.summary()"
   ]
  },
  {
   "cell_type": "code",
   "execution_count": 42,
   "id": "45a8fd8e-3750-49e8-8930-45b962092d78",
   "metadata": {},
   "outputs": [],
   "source": [
    "dnn.compile(optimizer=keras.optimizers.RMSprop(lr=1e-3),loss='binary_crossentropy',metrics=['accuracy'])"
   ]
  },
  {
   "cell_type": "code",
   "execution_count": 43,
   "id": "838a87c3-8acf-4d6f-a42a-8ff8b2783740",
   "metadata": {},
   "outputs": [
    {
     "name": "stdout",
     "output_type": "stream",
     "text": [
      "Epoch 1/10\n",
      "313/313 [==============================] - 65s 206ms/step - loss: 0.5518 - accuracy: 0.2245 - val_loss: 0.5000 - val_accuracy: 0.2342\n",
      "Epoch 2/10\n",
      "313/313 [==============================] - 66s 212ms/step - loss: 0.5005 - accuracy: 0.2842 - val_loss: 0.4802 - val_accuracy: 0.3362\n",
      "Epoch 3/10\n",
      "313/313 [==============================] - 68s 217ms/step - loss: 0.4817 - accuracy: 0.3295 - val_loss: 0.4676 - val_accuracy: 0.3346\n",
      "Epoch 4/10\n",
      "313/313 [==============================] - 62s 199ms/step - loss: 0.4645 - accuracy: 0.3349 - val_loss: 0.4557 - val_accuracy: 0.3522\n",
      "Epoch 5/10\n",
      "313/313 [==============================] - 61s 196ms/step - loss: 0.4442 - accuracy: 0.3484 - val_loss: 0.4396 - val_accuracy: 0.3594\n",
      "Epoch 6/10\n",
      "313/313 [==============================] - 62s 200ms/step - loss: 0.4230 - accuracy: 0.3868 - val_loss: 0.4442 - val_accuracy: 0.4086\n",
      "Epoch 7/10\n",
      "313/313 [==============================] - 61s 194ms/step - loss: 0.4042 - accuracy: 0.4463 - val_loss: 0.4296 - val_accuracy: 0.4358\n",
      "Epoch 8/10\n",
      "313/313 [==============================] - 66s 211ms/step - loss: 0.3901 - accuracy: 0.4805 - val_loss: 0.4288 - val_accuracy: 0.4534\n",
      "Epoch 9/10\n",
      "313/313 [==============================] - 64s 203ms/step - loss: 0.3790 - accuracy: 0.5033 - val_loss: 0.4222 - val_accuracy: 0.4766\n",
      "Epoch 10/10\n",
      "313/313 [==============================] - 64s 205ms/step - loss: 0.3660 - accuracy: 0.5301 - val_loss: 0.4393 - val_accuracy: 0.4778\n"
     ]
    },
    {
     "data": {
      "text/plain": [
       "<keras.callbacks.History at 0x7f4cc0600dc0>"
      ]
     },
     "execution_count": 43,
     "metadata": {},
     "output_type": "execute_result"
    }
   ],
   "source": [
    "dnn.fit(x_train,y_train,epochs=10,batch_size=64,validation_data=(x_test,y_test))"
   ]
  },
  {
   "cell_type": "code",
   "execution_count": 48,
   "id": "8f64b4ee-b136-41ef-b6d5-ac955ac8347d",
   "metadata": {},
   "outputs": [
    {
     "data": {
      "image/png": "[encoded data removed]",
      "text/plain": [
       "<IPython.core.display.Image object>"
      ]
     },
     "execution_count": 48,
     "metadata": {},
     "output_type": "execute_result"
    }
   ],
   "source": [
    "keras.utils.plot_model(dnn, to_file=\"dnn.png\", show_shapes=True)"
   ]
  },
  {
   "cell_type": "code",
   "execution_count": 44,
   "id": "902e3407-802d-464d-8833-a9d25a8c81eb",
   "metadata": {},
   "outputs": [],
   "source": [
    "lstm=Sequential()\n",
    "lstm.add(Embedding(input_dim=vocab_size,output_dim=embed_dim,input_length=max_rev_len,embeddings_initializer=Constant(embed_matrix)))\n",
    "lstm.add(LSTM(units=150))\n",
    "lstm.add(Dense(5,activation='softmax'))  # softmax for bin. classification."
   ]
  },
  {
   "cell_type": "code",
   "execution_count": 45,
   "id": "e13041d1-96e2-441e-afe0-38f87d834ea0",
   "metadata": {},
   "outputs": [],
   "source": [
    "lstm.compile(loss='categorical_crossentropy', optimizer='adam', metrics=['accuracy'])"
   ]
  },
  {
   "cell_type": "code",
   "execution_count": 46,
   "id": "6261f65d-2837-413e-8532-40cd6bd95088",
   "metadata": {},
   "outputs": [
    {
     "name": "stdout",
     "output_type": "stream",
     "text": [
      "Model: \"sequential_4\"\n",
      "_________________________________________________________________\n",
      " Layer (type)                Output Shape              Param #   \n",
      "=================================================================\n",
      " embedding_4 (Embedding)     (None, 1565, 300)         15225600  \n",
      "                                                                 \n",
      " lstm (LSTM)                 (None, 150)               270600    \n",
      "                                                                 \n",
      " dense_17 (Dense)            (None, 5)                 755       \n",
      "                                                                 \n",
      "=================================================================\n",
      "Total params: 15,496,955\n",
      "Trainable params: 15,496,955\n",
      "Non-trainable params: 0\n",
      "_________________________________________________________________\n",
      "None\n"
     ]
    }
   ],
   "source": [
    "print(lstm.summary())"
   ]
  },
  {
   "cell_type": "code",
   "execution_count": 49,
   "id": "7552d682-57df-4a6d-bb1d-2848fadeb82a",
   "metadata": {},
   "outputs": [
    {
     "data": {
      "image/png": "[encoded data removed]",
      "text/plain": [
       "<IPython.core.display.Image object>"
      ]
     },
     "execution_count": 49,
     "metadata": {},
     "output_type": "execute_result"
    }
   ],
   "source": [
    "keras.utils.plot_model(lstm, to_file=\"dnn.png\", show_shapes=True)"
   ]
  },
  {
   "cell_type": "code",
   "execution_count": 47,
   "id": "1f90b035-66cc-49d3-b465-d72fdd144551",
   "metadata": {},
   "outputs": [
    {
     "name": "stdout",
     "output_type": "stream",
     "text": [
      "Epoch 1/10\n",
      "  7/313 [..............................] - ETA: 14:25 - loss: 1.6099 - accuracy: 0.1987"
     ]
    },
    {
     "ename": "KeyboardInterrupt",
     "evalue": "",
     "output_type": "error",
     "traceback": [
      "\u001b[0;31m---------------------------------------------------------------------------\u001b[0m",
      "\u001b[0;31mKeyboardInterrupt\u001b[0m                         Traceback (most recent call last)",
      "\u001b[0;32m/tmp/ipykernel_10306/111575647.py\u001b[0m in \u001b[0;36m<module>\u001b[0;34m\u001b[0m\n\u001b[0;32m----> 1\u001b[0;31m \u001b[0mlstm\u001b[0m\u001b[0;34m.\u001b[0m\u001b[0mfit\u001b[0m\u001b[0;34m(\u001b[0m\u001b[0mx_train\u001b[0m\u001b[0;34m,\u001b[0m\u001b[0my_train\u001b[0m\u001b[0;34m,\u001b[0m\u001b[0mepochs\u001b[0m\u001b[0;34m=\u001b[0m\u001b[0;36m10\u001b[0m\u001b[0;34m,\u001b[0m\u001b[0mbatch_size\u001b[0m\u001b[0;34m=\u001b[0m\u001b[0;36m64\u001b[0m\u001b[0;34m,\u001b[0m\u001b[0mvalidation_data\u001b[0m\u001b[0;34m=\u001b[0m\u001b[0;34m(\u001b[0m\u001b[0mx_test\u001b[0m\u001b[0;34m,\u001b[0m\u001b[0my_test\u001b[0m\u001b[0;34m)\u001b[0m\u001b[0;34m)\u001b[0m\u001b[0;34m\u001b[0m\u001b[0;34m\u001b[0m\u001b[0m\n\u001b[0m",
      "\u001b[0;32m~/miniconda3/lib/python3.9/site-packages/keras/utils/traceback_utils.py\u001b[0m in \u001b[0;36merror_handler\u001b[0;34m(*args, **kwargs)\u001b[0m\n\u001b[1;32m     63\u001b[0m         \u001b[0mfiltered_tb\u001b[0m \u001b[0;34m=\u001b[0m \u001b[0;32mNone\u001b[0m\u001b[0;34m\u001b[0m\u001b[0;34m\u001b[0m\u001b[0m\n\u001b[1;32m     64\u001b[0m         \u001b[0;32mtry\u001b[0m\u001b[0;34m:\u001b[0m\u001b[0;34m\u001b[0m\u001b[0;34m\u001b[0m\u001b[0m\n\u001b[0;32m---> 65\u001b[0;31m             \u001b[0;32mreturn\u001b[0m \u001b[0mfn\u001b[0m\u001b[0;34m(\u001b[0m\u001b[0;34m*\u001b[0m\u001b[0margs\u001b[0m\u001b[0;34m,\u001b[0m \u001b[0;34m**\u001b[0m\u001b[0mkwargs\u001b[0m\u001b[0;34m)\u001b[0m\u001b[0;34m\u001b[0m\u001b[0;34m\u001b[0m\u001b[0m\n\u001b[0m\u001b[1;32m     66\u001b[0m         \u001b[0;32mexcept\u001b[0m \u001b[0mException\u001b[0m \u001b[0;32mas\u001b[0m \u001b[0me\u001b[0m\u001b[0;34m:\u001b[0m\u001b[0;34m\u001b[0m\u001b[0;34m\u001b[0m\u001b[0m\n\u001b[1;32m     67\u001b[0m             \u001b[0mfiltered_tb\u001b[0m \u001b[0;34m=\u001b[0m \u001b[0m_process_traceback_frames\u001b[0m\u001b[0;34m(\u001b[0m\u001b[0me\u001b[0m\u001b[0;34m.\u001b[0m\u001b[0m__traceback__\u001b[0m\u001b[0;34m)\u001b[0m\u001b[0;34m\u001b[0m\u001b[0;34m\u001b[0m\u001b[0m\n",
      "\u001b[0;32m~/miniconda3/lib/python3.9/site-packages/keras/engine/training.py\u001b[0m in \u001b[0;36mfit\u001b[0;34m(self, x, y, batch_size, epochs, verbose, callbacks, validation_split, validation_data, shuffle, class_weight, sample_weight, initial_epoch, steps_per_epoch, validation_steps, validation_batch_size, validation_freq, max_queue_size, workers, use_multiprocessing)\u001b[0m\n\u001b[1;32m   1648\u001b[0m                         ):\n\u001b[1;32m   1649\u001b[0m                             \u001b[0mcallbacks\u001b[0m\u001b[0;34m.\u001b[0m\u001b[0mon_train_batch_begin\u001b[0m\u001b[0;34m(\u001b[0m\u001b[0mstep\u001b[0m\u001b[0;34m)\u001b[0m\u001b[0;34m\u001b[0m\u001b[0;34m\u001b[0m\u001b[0m\n\u001b[0;32m-> 1650\u001b[0;31m                             \u001b[0mtmp_logs\u001b[0m \u001b[0;34m=\u001b[0m \u001b[0mself\u001b[0m\u001b[0;34m.\u001b[0m\u001b[0mtrain_function\u001b[0m\u001b[0;34m(\u001b[0m\u001b[0miterator\u001b[0m\u001b[0;34m)\u001b[0m\u001b[0;34m\u001b[0m\u001b[0;34m\u001b[0m\u001b[0m\n\u001b[0m\u001b[1;32m   1651\u001b[0m                             \u001b[0;32mif\u001b[0m \u001b[0mdata_handler\u001b[0m\u001b[0;34m.\u001b[0m\u001b[0mshould_sync\u001b[0m\u001b[0;34m:\u001b[0m\u001b[0;34m\u001b[0m\u001b[0;34m\u001b[0m\u001b[0m\n\u001b[1;32m   1652\u001b[0m                                 \u001b[0mcontext\u001b[0m\u001b[0;34m.\u001b[0m\u001b[0masync_wait\u001b[0m\u001b[0;34m(\u001b[0m\u001b[0;34m)\u001b[0m\u001b[0;34m\u001b[0m\u001b[0;34m\u001b[0m\u001b[0m\n",
      "\u001b[0;32m~/miniconda3/lib/python3.9/site-packages/tensorflow/python/util/traceback_utils.py\u001b[0m in \u001b[0;36merror_handler\u001b[0;34m(*args, **kwargs)\u001b[0m\n\u001b[1;32m    148\u001b[0m     \u001b[0mfiltered_tb\u001b[0m \u001b[0;34m=\u001b[0m \u001b[0;32mNone\u001b[0m\u001b[0;34m\u001b[0m\u001b[0;34m\u001b[0m\u001b[0m\n\u001b[1;32m    149\u001b[0m     \u001b[0;32mtry\u001b[0m\u001b[0;34m:\u001b[0m\u001b[0;34m\u001b[0m\u001b[0;34m\u001b[0m\u001b[0m\n\u001b[0;32m--> 150\u001b[0;31m       \u001b[0;32mreturn\u001b[0m \u001b[0mfn\u001b[0m\u001b[0;34m(\u001b[0m\u001b[0;34m*\u001b[0m\u001b[0margs\u001b[0m\u001b[0;34m,\u001b[0m \u001b[0;34m**\u001b[0m\u001b[0mkwargs\u001b[0m\u001b[0;34m)\u001b[0m\u001b[0;34m\u001b[0m\u001b[0;34m\u001b[0m\u001b[0m\n\u001b[0m\u001b[1;32m    151\u001b[0m     \u001b[0;32mexcept\u001b[0m \u001b[0mException\u001b[0m \u001b[0;32mas\u001b[0m \u001b[0me\u001b[0m\u001b[0;34m:\u001b[0m\u001b[0;34m\u001b[0m\u001b[0;34m\u001b[0m\u001b[0m\n\u001b[1;32m    152\u001b[0m       \u001b[0mfiltered_tb\u001b[0m \u001b[0;34m=\u001b[0m \u001b[0m_process_traceback_frames\u001b[0m\u001b[0;34m(\u001b[0m\u001b[0me\u001b[0m\u001b[0;34m.\u001b[0m\u001b[0m__traceback__\u001b[0m\u001b[0;34m)\u001b[0m\u001b[0;34m\u001b[0m\u001b[0;34m\u001b[0m\u001b[0m\n",
      "\u001b[0;32m~/miniconda3/lib/python3.9/site-packages/tensorflow/python/eager/polymorphic_function/polymorphic_function.py\u001b[0m in \u001b[0;36m__call__\u001b[0;34m(self, *args, **kwds)\u001b[0m\n\u001b[1;32m    878\u001b[0m \u001b[0;34m\u001b[0m\u001b[0m\n\u001b[1;32m    879\u001b[0m       \u001b[0;32mwith\u001b[0m \u001b[0mOptionalXlaContext\u001b[0m\u001b[0;34m(\u001b[0m\u001b[0mself\u001b[0m\u001b[0;34m.\u001b[0m\u001b[0m_jit_compile\u001b[0m\u001b[0;34m)\u001b[0m\u001b[0;34m:\u001b[0m\u001b[0;34m\u001b[0m\u001b[0;34m\u001b[0m\u001b[0m\n\u001b[0;32m--> 880\u001b[0;31m         \u001b[0mresult\u001b[0m \u001b[0;34m=\u001b[0m \u001b[0mself\u001b[0m\u001b[0;34m.\u001b[0m\u001b[0m_call\u001b[0m\u001b[0;34m(\u001b[0m\u001b[0;34m*\u001b[0m\u001b[0margs\u001b[0m\u001b[0;34m,\u001b[0m \u001b[0;34m**\u001b[0m\u001b[0mkwds\u001b[0m\u001b[0;34m)\u001b[0m\u001b[0;34m\u001b[0m\u001b[0;34m\u001b[0m\u001b[0m\n\u001b[0m\u001b[1;32m    881\u001b[0m \u001b[0;34m\u001b[0m\u001b[0m\n\u001b[1;32m    882\u001b[0m       \u001b[0mnew_tracing_count\u001b[0m \u001b[0;34m=\u001b[0m \u001b[0mself\u001b[0m\u001b[0;34m.\u001b[0m\u001b[0mexperimental_get_tracing_count\u001b[0m\u001b[0;34m(\u001b[0m\u001b[0;34m)\u001b[0m\u001b[0;34m\u001b[0m\u001b[0;34m\u001b[0m\u001b[0m\n",
      "\u001b[0;32m~/miniconda3/lib/python3.9/site-packages/tensorflow/python/eager/polymorphic_function/polymorphic_function.py\u001b[0m in \u001b[0;36m_call\u001b[0;34m(self, *args, **kwds)\u001b[0m\n\u001b[1;32m    910\u001b[0m       \u001b[0;31m# In this case we have created variables on the first call, so we run the\u001b[0m\u001b[0;34m\u001b[0m\u001b[0;34m\u001b[0m\u001b[0m\n\u001b[1;32m    911\u001b[0m       \u001b[0;31m# defunned version which is guaranteed to never create variables.\u001b[0m\u001b[0;34m\u001b[0m\u001b[0;34m\u001b[0m\u001b[0m\n\u001b[0;32m--> 912\u001b[0;31m       \u001b[0;32mreturn\u001b[0m \u001b[0mself\u001b[0m\u001b[0;34m.\u001b[0m\u001b[0m_no_variable_creation_fn\u001b[0m\u001b[0;34m(\u001b[0m\u001b[0;34m*\u001b[0m\u001b[0margs\u001b[0m\u001b[0;34m,\u001b[0m \u001b[0;34m**\u001b[0m\u001b[0mkwds\u001b[0m\u001b[0;34m)\u001b[0m  \u001b[0;31m# pylint: disable=not-callable\u001b[0m\u001b[0;34m\u001b[0m\u001b[0;34m\u001b[0m\u001b[0m\n\u001b[0m\u001b[1;32m    913\u001b[0m     \u001b[0;32melif\u001b[0m \u001b[0mself\u001b[0m\u001b[0;34m.\u001b[0m\u001b[0m_variable_creation_fn\u001b[0m \u001b[0;32mis\u001b[0m \u001b[0;32mnot\u001b[0m \u001b[0;32mNone\u001b[0m\u001b[0;34m:\u001b[0m\u001b[0;34m\u001b[0m\u001b[0;34m\u001b[0m\u001b[0m\n\u001b[1;32m    914\u001b[0m       \u001b[0;31m# Release the lock early so that multiple threads can perform the call\u001b[0m\u001b[0;34m\u001b[0m\u001b[0;34m\u001b[0m\u001b[0m\n",
      "\u001b[0;32m~/miniconda3/lib/python3.9/site-packages/tensorflow/python/eager/polymorphic_function/tracing_compiler.py\u001b[0m in \u001b[0;36m__call__\u001b[0;34m(self, *args, **kwargs)\u001b[0m\n\u001b[1;32m    132\u001b[0m       (concrete_function,\n\u001b[1;32m    133\u001b[0m        filtered_flat_args) = self._maybe_define_function(args, kwargs)\n\u001b[0;32m--> 134\u001b[0;31m     return concrete_function._call_flat(\n\u001b[0m\u001b[1;32m    135\u001b[0m         filtered_flat_args, captured_inputs=concrete_function.captured_inputs)  # pylint: disable=protected-access\n\u001b[1;32m    136\u001b[0m \u001b[0;34m\u001b[0m\u001b[0m\n",
      "\u001b[0;32m~/miniconda3/lib/python3.9/site-packages/tensorflow/python/eager/polymorphic_function/monomorphic_function.py\u001b[0m in \u001b[0;36m_call_flat\u001b[0;34m(self, args, captured_inputs, cancellation_manager)\u001b[0m\n\u001b[1;32m   1743\u001b[0m         and executing_eagerly):\n\u001b[1;32m   1744\u001b[0m       \u001b[0;31m# No tape is watching; skip to running the function.\u001b[0m\u001b[0;34m\u001b[0m\u001b[0;34m\u001b[0m\u001b[0m\n\u001b[0;32m-> 1745\u001b[0;31m       return self._build_call_outputs(self._inference_function.call(\n\u001b[0m\u001b[1;32m   1746\u001b[0m           ctx, args, cancellation_manager=cancellation_manager))\n\u001b[1;32m   1747\u001b[0m     forward_backward = self._select_forward_and_backward_functions(\n",
      "\u001b[0;32m~/miniconda3/lib/python3.9/site-packages/tensorflow/python/eager/polymorphic_function/monomorphic_function.py\u001b[0m in \u001b[0;36mcall\u001b[0;34m(self, ctx, args, cancellation_manager)\u001b[0m\n\u001b[1;32m    376\u001b[0m       \u001b[0;32mwith\u001b[0m \u001b[0m_InterpolateFunctionError\u001b[0m\u001b[0;34m(\u001b[0m\u001b[0mself\u001b[0m\u001b[0;34m)\u001b[0m\u001b[0;34m:\u001b[0m\u001b[0;34m\u001b[0m\u001b[0;34m\u001b[0m\u001b[0m\n\u001b[1;32m    377\u001b[0m         \u001b[0;32mif\u001b[0m \u001b[0mcancellation_manager\u001b[0m \u001b[0;32mis\u001b[0m \u001b[0;32mNone\u001b[0m\u001b[0;34m:\u001b[0m\u001b[0;34m\u001b[0m\u001b[0;34m\u001b[0m\u001b[0m\n\u001b[0;32m--> 378\u001b[0;31m           outputs = execute.execute(\n\u001b[0m\u001b[1;32m    379\u001b[0m               \u001b[0mstr\u001b[0m\u001b[0;34m(\u001b[0m\u001b[0mself\u001b[0m\u001b[0;34m.\u001b[0m\u001b[0msignature\u001b[0m\u001b[0;34m.\u001b[0m\u001b[0mname\u001b[0m\u001b[0;34m)\u001b[0m\u001b[0;34m,\u001b[0m\u001b[0;34m\u001b[0m\u001b[0;34m\u001b[0m\u001b[0m\n\u001b[1;32m    380\u001b[0m               \u001b[0mnum_outputs\u001b[0m\u001b[0;34m=\u001b[0m\u001b[0mself\u001b[0m\u001b[0;34m.\u001b[0m\u001b[0m_num_outputs\u001b[0m\u001b[0;34m,\u001b[0m\u001b[0;34m\u001b[0m\u001b[0;34m\u001b[0m\u001b[0m\n",
      "\u001b[0;32m~/miniconda3/lib/python3.9/site-packages/tensorflow/python/eager/execute.py\u001b[0m in \u001b[0;36mquick_execute\u001b[0;34m(op_name, num_outputs, inputs, attrs, ctx, name)\u001b[0m\n\u001b[1;32m     50\u001b[0m   \u001b[0;32mtry\u001b[0m\u001b[0;34m:\u001b[0m\u001b[0;34m\u001b[0m\u001b[0;34m\u001b[0m\u001b[0m\n\u001b[1;32m     51\u001b[0m     \u001b[0mctx\u001b[0m\u001b[0;34m.\u001b[0m\u001b[0mensure_initialized\u001b[0m\u001b[0;34m(\u001b[0m\u001b[0;34m)\u001b[0m\u001b[0;34m\u001b[0m\u001b[0;34m\u001b[0m\u001b[0m\n\u001b[0;32m---> 52\u001b[0;31m     tensors = pywrap_tfe.TFE_Py_Execute(ctx._handle, device_name, op_name,\n\u001b[0m\u001b[1;32m     53\u001b[0m                                         inputs, attrs, num_outputs)\n\u001b[1;32m     54\u001b[0m   \u001b[0;32mexcept\u001b[0m \u001b[0mcore\u001b[0m\u001b[0;34m.\u001b[0m\u001b[0m_NotOkStatusException\u001b[0m \u001b[0;32mas\u001b[0m \u001b[0me\u001b[0m\u001b[0;34m:\u001b[0m\u001b[0;34m\u001b[0m\u001b[0;34m\u001b[0m\u001b[0m\n",
      "\u001b[0;31mKeyboardInterrupt\u001b[0m: "
     ]
    }
   ],
   "source": [
    "lstm.fit(x_train,y_train,epochs=10,batch_size=64,validation_data=(x_test,y_test))"
   ]
  },
  {
   "cell_type": "code",
   "execution_count": null,
   "id": "4ff12b2e-bebd-4bb9-b578-be1e0d1b59e0",
   "metadata": {},
   "outputs": [],
   "source": []
  }
 ],
 "metadata": {
  "kernelspec": {
   "display_name": "Python 3 (ipykernel)",
   "language": "python",
   "name": "python3"
  },
  "language_info": {
   "codemirror_mode": {
    "name": "ipython",
    "version": 3
   },
   "file_extension": ".py",
   "mimetype": "text/x-python",
   "name": "python",
   "nbconvert_exporter": "python",
   "pygments_lexer": "ipython3",
   "version": "3.9.12"
  }
 },
 "nbformat": 4,
 "nbformat_minor": 5
}
